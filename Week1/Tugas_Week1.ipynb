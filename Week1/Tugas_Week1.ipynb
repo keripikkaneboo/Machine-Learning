{
  "nbformat": 4,
  "nbformat_minor": 0,
  "metadata": {
    "colab": {
      "provenance": [],
      "authorship_tag": "ABX9TyNm36LcDWzaGivizKEHhsDf",
      "include_colab_link": true
    },
    "kernelspec": {
      "name": "python3",
      "display_name": "Python 3"
    },
    "language_info": {
      "name": "python"
    }
  },
  "cells": [
    {
      "cell_type": "markdown",
      "metadata": {
        "id": "view-in-github",
        "colab_type": "text"
      },
      "source": [
        "<a href=\"https://colab.research.google.com/github/keripikkaneboo/Machine-Learning/blob/main/Week1/Tugas_Week1.ipynb\" target=\"_parent\"><img src=\"https://colab.research.google.com/assets/colab-badge.svg\" alt=\"Open In Colab\"/></a>"
      ]
    },
    {
      "cell_type": "code",
      "execution_count": null,
      "metadata": {
        "id": "LdXF-oVWXsHT"
      },
      "outputs": [],
      "source": [
        "import pandas as pd\n",
        "from sklearn.model_selection import train_test_split\n",
        "from sklearn.linear_model import LogisticRegression\n",
        "from sklearn.preprocessing import OneHotEncoder, StandardScaler\n",
        "from sklearn.compose import ColumnTransformer\n",
        "from sklearn.pipeline import Pipeline\n",
        "from sklearn.impute import SimpleImputer\n",
        "from sklearn.metrics import accuracy_score, classification_report\n",
        "\n",
        "# Muat dataset (sesuaikan dengan path file)\n",
        "data = pd.read_csv('Automobile.csv')\n",
        "\n",
        "# Definisikan fitur dan target\n",
        "X = data.drop('symboling', axis=1)\n",
        "y = data['symboling']\n",
        "\n",
        "# Kolom numerik dan kategorikal\n",
        "numeric_features = [\n",
        "    'price', 'highway-mpg', 'city-mpg', 'peak-rpm', 'horsepower',\n",
        "    'compression-ratio', 'stroke', 'bore', 'engine-size', 'curb-weight',\n",
        "    'height', 'width', 'length', 'wheel-base', 'normalized-losses'\n",
        "]\n",
        "categorical_features = [\n",
        "    'fuel-system', 'engine-type', 'body-style', 'make', 'aspiration',\n",
        "    'fuel-type', 'drive-wheels', 'engine-location', 'num-of-doors', 'num-of-cylinders'\n",
        "]\n",
        "\n",
        "# Preprocessing pipeline\n",
        "numeric_transformer = Pipeline(steps=[\n",
        "    ('imputer', SimpleImputer(strategy='median')),\n",
        "    ('scaler', StandardScaler())\n",
        "])\n",
        "\n",
        "categorical_transformer = Pipeline(steps=[\n",
        "    ('imputer', SimpleImputer(strategy='most_frequent')),\n",
        "    ('onehot', OneHotEncoder(handle_unknown='ignore'))\n",
        "])\n",
        "\n",
        "preprocessor = ColumnTransformer(\n",
        "    transformers=[\n",
        "        ('num', numeric_transformer, numeric_features),\n",
        "        ('cat', categorical_transformer, categorical_features)\n",
        "    ])\n",
        "\n",
        "# Model pipeline (klasifikasi multi-kelas)\n",
        "model = Pipeline(steps=[\n",
        "    ('preprocessor', preprocessor),\n",
        "    ('classifier', LogisticRegression(multi_class='ovr', max_iter=1000, C=0.1))\n",
        "])\n",
        "\n",
        "# Bagi data menjadi train dan test\n",
        "X_train, X_test, y_train, y_test = train_test_split(X, y, test_size=0.2, random_state=42)\n",
        "\n",
        "# Latih model\n",
        "model.fit(X_train, y_train)\n",
        "\n",
        "# Evaluasi\n",
        "y_pred = model.predict(X_test)\n",
        "print(\"Akurasi:\", accuracy_score(y_test, y_pred))\n",
        "print(\"\\nLaporan Klasifikasi:\\n\", classification_report(y_test, y_pred))"
      ]
    }
  ]
}