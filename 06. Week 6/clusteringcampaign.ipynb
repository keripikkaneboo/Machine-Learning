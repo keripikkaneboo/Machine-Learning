{
  "nbformat": 4,
  "nbformat_minor": 0,
  "metadata": {
    "colab": {
      "provenance": [],
      "toc_visible": true,
      "authorship_tag": "ABX9TyN39cOYhLmOEAXsPzsAdSiJ",
      "include_colab_link": true
    },
    "kernelspec": {
      "name": "python3",
      "display_name": "Python 3"
    },
    "language_info": {
      "name": "python"
    }
  },
  "cells": [
    {
      "cell_type": "markdown",
      "metadata": {
        "id": "view-in-github",
        "colab_type": "text"
      },
      "source": [
        "<a href=\"https://colab.research.google.com/github/keripikkaneboo/Machine-Learning/blob/main/06.%20Week%206/clusteringcampaign.ipynb\" target=\"_parent\"><img src=\"https://colab.research.google.com/assets/colab-badge.svg\" alt=\"Open In Colab\"/></a>"
      ]
    },
    {
      "cell_type": "code",
      "source": [
        "import pandas as pd\n",
        "import numpy as np\n",
        "import matplotlib.pyplot as plt\n",
        "from sklearn.preprocessing import StandardScaler\n",
        "from sklearn.cluster import KMeans, AgglomerativeClustering\n",
        "from sklearn.metrics import silhouette_score, calinski_harabasz_score, davies_bouldin_score\n",
        "from scipy.spatial.distance import cdist, pdist"
      ],
      "metadata": {
        "id": "Ng_wBSl20X5u"
      },
      "execution_count": 14,
      "outputs": []
    },
    {
      "cell_type": "code",
      "source": [
        "# Load dataset\n",
        "url = \"https://raw.githubusercontent.com/farrelrassya/teachingMLDL/refs/heads/main/01.%20Machine%20Learning/06.%20Week%206/Datasets/clusteringcampaign.csv\"\n",
        "df = pd.read_csv(url)\n",
        "\n",
        "# Cek data dan bersihkan jika perlu\n",
        "df.dropna(inplace=True)\n"
      ],
      "metadata": {
        "id": "H2EQ1qHh0tAI"
      },
      "execution_count": 16,
      "outputs": []
    },
    {
      "cell_type": "code",
      "source": [
        "# Lihat kolom-kolom\n",
        "print(df.columns)\n",
        "\n",
        "# Ubah semua kolom numerik yang berbentuk string menjadi float\n",
        "for col in df.columns:\n",
        "    df[col] = df[col].astype(str).str.replace(r'[^\\d.]', '', regex=True)  # hapus selain angka dan titik\n",
        "    try:\n",
        "        df[col] = df[col].astype(float)\n",
        "    except:\n",
        "        pass  # biarkan kolom tetap object jika tidak bisa dikonversi\n",
        "\n",
        "# Seleksi kembali kolom numerik\n",
        "X = df.select_dtypes(include='number')\n",
        "\n",
        "# Pastikan tidak kosong\n",
        "print(X.head())\n",
        "\n",
        "# Standarisasi\n",
        "from sklearn.preprocessing import StandardScaler\n",
        "scaler = StandardScaler()\n",
        "X_scaled = scaler.fit_transform(X)\n"
      ],
      "metadata": {
        "colab": {
          "base_uri": "https://localhost:8080/"
        },
        "id": "OI69lONl0x5T",
        "outputId": "c9a2c01c-0fd1-4a65-99da-ab8cb1ace071"
      },
      "execution_count": 17,
      "outputs": [
        {
          "output_type": "stream",
          "name": "stdout",
          "text": [
            "Index(['ID\\tYear_Birth\\tEducation\\tMarital_Status\\tIncome\\tKidhome\\tTeenhome\\tDt_Customer\\tRecency\\tMntWines\\tMntFruits\\tMntMeatProducts\\tMntFishProducts\\tMntSweetProducts\\tMntGoldProds\\tNumDealsPurchases\\tNumWebPurchases\\tNumCatalogPurchases\\tNumStorePurchases\\tNumWebVisitsMonth\\tAcceptedCmp3\\tAcceptedCmp4\\tAcceptedCmp5\\tAcceptedCmp1\\tAcceptedCmp2\\tComplain\\tZ_CostContact\\tZ_Revenue\\tResponse'], dtype='object')\n",
            "   ID\\tYear_Birth\\tEducation\\tMarital_Status\\tIncome\\tKidhome\\tTeenhome\\tDt_Customer\\tRecency\\tMntWines\\tMntFruits\\tMntMeatProducts\\tMntFishProducts\\tMntSweetProducts\\tMntGoldProds\\tNumDealsPurchases\\tNumWebPurchases\\tNumCatalogPurchases\\tNumStorePurchases\\tNumWebVisitsMonth\\tAcceptedCmp3\\tAcceptedCmp4\\tAcceptedCmp5\\tAcceptedCmp1\\tAcceptedCmp2\\tComplain\\tZ_CostContact\\tZ_Revenue\\tResponse\n",
            "0                                       5.524196e+55                                                                                                                                                                                                                                                                                                                                                   \n",
            "1                                       2.174195e+46                                                                                                                                                                                                                                                                                                                                                   \n",
            "2                                       4.141197e+55                                                                                                                                                                                                                                                                                                                                                   \n",
            "3                                       6.182198e+48                                                                                                                                                                                                                                                                                                                                                   \n",
            "4                                       5.324198e+53                                                                                                                                                                                                                                                                                                                                                   \n"
          ]
        }
      ]
    },
    {
      "cell_type": "code",
      "source": [
        "# Standarisasi fitur numerik\n",
        "scaler = StandardScaler()\n",
        "X_scaled = scaler.fit_transform(df.select_dtypes(include='number'))"
      ],
      "metadata": {
        "id": "jnH_lxYK00jk"
      },
      "execution_count": 18,
      "outputs": []
    },
    {
      "cell_type": "code",
      "source": [
        "# KMeans\n",
        "kmeans = KMeans(n_clusters=3, random_state=42)\n",
        "kmeans_labels = kmeans.fit_predict(X_scaled)\n",
        "\n",
        "# Agglomerative\n",
        "agg = AgglomerativeClustering(n_clusters=3)\n",
        "agg_labels = agg.fit_predict(X_scaled)"
      ],
      "metadata": {
        "id": "yBI2jGxa010C"
      },
      "execution_count": 19,
      "outputs": []
    },
    {
      "cell_type": "code",
      "source": [
        "# Elbow Method\n",
        "inertias = []\n",
        "for k in range(2, 11):\n",
        "    km = KMeans(n_clusters=k, random_state=42)\n",
        "    km.fit(X_scaled)\n",
        "    inertias.append(km.inertia_)\n",
        "\n",
        "plt.plot(range(2, 11), inertias, marker='o')\n",
        "plt.title('Elbow Method')\n",
        "plt.xlabel('Number of clusters')\n",
        "plt.ylabel('Inertia')\n",
        "plt.show()\n",
        "\n",
        "# Evaluasi metrik\n",
        "def evaluate_clustering(X, labels):\n",
        "    return {\n",
        "        \"Silhouette Score\": silhouette_score(X, labels),\n",
        "        \"Calinski-Harabasz Index\": calinski_harabasz_score(X, labels),\n",
        "        \"Davies-Bouldin Index\": davies_bouldin_score(X, labels)\n",
        "    }\n",
        "\n",
        "print(\"KMeans Evaluation:\", evaluate_clustering(X_scaled, kmeans_labels))\n",
        "print(\"Agglomerative Evaluation:\", evaluate_clustering(X_scaled, agg_labels))"
      ],
      "metadata": {
        "colab": {
          "base_uri": "https://localhost:8080/",
          "height": 527
        },
        "id": "k2x_10ow04rh",
        "outputId": "08a3c421-045f-4aca-9ab1-880586832948"
      },
      "execution_count": 20,
      "outputs": [
        {
          "output_type": "display_data",
          "data": {
            "text/plain": [
              "<Figure size 640x480 with 1 Axes>"
            ],
            "image/png": "[encoded data removed]"
          },
          "metadata": {}
        },
        {
          "output_type": "stream",
          "name": "stdout",
          "text": [
            "KMeans Evaluation: {'Silhouette Score': np.float64(0.9968126819863591), 'Calinski-Harabasz Index': np.float64(326715.6062387956), 'Davies-Bouldin Index': np.float64(0.06054038716662127)}\n",
            "Agglomerative Evaluation: {'Silhouette Score': np.float64(0.9968126819863591), 'Calinski-Harabasz Index': np.float64(326715.6062387956), 'Davies-Bouldin Index': np.float64(0.06054038716662127)}\n"
          ]
        }
      ]
    },
    {
      "cell_type": "code",
      "source": [
        "def dunn_index(X, labels):\n",
        "    unique_clusters = np.unique(labels)\n",
        "    intra_dists = []\n",
        "    for k in unique_clusters:\n",
        "        cluster_points = X[labels == k]\n",
        "        if len(cluster_points) > 1:\n",
        "            intra = np.max(pdist(cluster_points))\n",
        "            intra_dists.append(intra)\n",
        "    if len(intra_dists) == 0:\n",
        "        raise ValueError(\"Tidak ada cluster dengan cukup data untuk menghitung intra-cluster distance\")\n",
        "\n",
        "    inter_dists = []\n",
        "    for i in unique_clusters:\n",
        "        for j in unique_clusters:\n",
        "            if i < j:\n",
        "                dist = np.min(cdist(X[labels == i], X[labels == j]))\n",
        "                inter_dists.append(dist)\n",
        "    return np.min(inter_dists) / np.max(intra_dists)\n",
        "\n",
        "print(\"Dunn Index KMeans:\", dunn_index(X_scaled, kmeans_labels))\n",
        "print(\"Dunn Index Agglomerative:\", dunn_index(X_scaled, agg_labels))"
      ],
      "metadata": {
        "colab": {
          "base_uri": "https://localhost:8080/"
        },
        "id": "B1x-u9TF07fv",
        "outputId": "88d38651-ef93-4d05-8575-d42a9caf4bfd"
      },
      "execution_count": 22,
      "outputs": [
        {
          "output_type": "stream",
          "name": "stdout",
          "text": [
            "Dunn Index KMeans: 2.0473191451436055\n",
            "Dunn Index Agglomerative: 2.0473191451436055\n"
          ]
        }
      ]
    },
    {
      "cell_type": "markdown",
      "source": [
        "### KMeans:\n",
        "\n",
        "- Silhouette Score: 0.9968\n",
        "- Calinski-Harabasz Index: 326715.6062\n",
        "- Davies-Bouldin Index: 0.0605\n",
        "- Dunn Index: 2.0473\n",
        "\n",
        "### Agglomerative:\n",
        "\n",
        "- Silhouette Score: 0.9968\n",
        "- Calinski-Harabasz Index: 326715.6062\n",
        "- Davies-Bouldin Index: 0.0605\n",
        "- Dunn Index: 2.0473\n",
        "\n",
        "### Matriks Terbaik:\n",
        "- kedua matriks tersebut memberikan data yang mirip, maka keduanya dapat dibilang sebagai matriks terbaik.\n",
        "\n",
        "\n"
      ],
      "metadata": {
        "id": "sKinv-IL1XD_"
      }
    },
    {
      "cell_type": "markdown",
      "source": [
        "## 1.  **Silhouette Score**\n",
        "\n",
        "### **Rumus:**\n",
        "\n",
        "$$\n",
        "s(i) = \\frac{b(i) - a(i)}{\\max(a(i), b(i))}\n",
        "$$\n",
        "\n",
        "* $a(i)$: rata-rata jarak antar titik $i$ ke **titik lain dalam klusternya sendiri** (kompaksi).\n",
        "* $b(i)$: rata-rata jarak antar titik $i$ ke **titik dalam kluster terdekat lain** (pemisahan).\n",
        "* $s(i) \\in [-1, 1]$\n",
        "\n",
        "### **Interpretasi:**\n",
        "\n",
        "* $s(i)$ mendekati **1** → titik sangat cocok dengan klusternya.\n",
        "* $s(i)$ mendekati **0** → titik berada di batas dua kluster.\n",
        "* $s(i)$ negatif → titik mungkin salah kluster.\n",
        "\n",
        "---\n",
        "\n",
        "## 2.  **Calinski-Harabasz Index (CH Index)**\n",
        "\n",
        "### **Rumus:**\n",
        "\n",
        "$$\n",
        "CH = \\frac{\\text{Tr}(B_k)}{\\text{Tr}(W_k)} \\cdot \\frac{n - k}{k - 1}\n",
        "$$\n",
        "\n",
        "* $\\text{Tr}(B_k)$: jumlah variansi **antar cluster** (between-cluster dispersion)\n",
        "* $\\text{Tr}(W_k)$: jumlah variansi **dalam cluster** (within-cluster dispersion)\n",
        "* $n$: jumlah total data\n",
        "* $k$: jumlah cluster\n",
        "\n",
        "### **Interpretasi:**\n",
        "\n",
        "* Semakin **besar CH**, semakin **baik clustering** (cluster jauh satu sama lain dan padat di dalam).\n",
        "\n",
        "---\n",
        "\n",
        "## 3.  **Davies-Bouldin Index**\n",
        "\n",
        "### **Rumus:**\n",
        "\n",
        "$$\n",
        "DB = \\frac{1}{k} \\sum_{i=1}^{k} \\max_{j \\ne i} \\left( \\frac{S_i + S_j}{M_{ij}} \\right)\n",
        "$$\n",
        "\n",
        "* $S_i$: rata-rata jarak tiap titik ke centroid kluster $i$\n",
        "* $M_{ij}$: jarak antara centroid kluster $i$ dan $j$\n",
        "\n",
        "### **Interpretasi:**\n",
        "\n",
        "* Semakin **rendah nilai DB**, semakin **baik** (cluster kompak dan jauh dari satu sama lain).\n",
        "\n",
        "---\n",
        "\n",
        "## 4.  **Dunn Index**\n",
        "\n",
        "### **Rumus:**\n",
        "\n",
        "$$\n",
        "D = \\frac{\\min_{1 \\leq i < j \\leq k} d(c_i, c_j)}{\\max_{1 \\leq l \\leq k} \\delta_l}\n",
        "$$\n",
        "\n",
        "* $d(c_i, c_j)$: jarak minimum antar dua **cluster berbeda**\n",
        "* $\\delta_l$: diameter (maksimal jarak antar titik dalam) cluster $l$\n",
        "\n",
        "### **Interpretasi:**\n",
        "\n",
        "* Semakin **tinggi** Dunn Index, semakin **baik** clustering.\n",
        "* Mengukur **rasio pemisahan antar cluster** dibanding **penyebaran internal cluster**."
      ],
      "metadata": {
        "id": "r45p_sgU1Uth"
      }
    }
  ]
}